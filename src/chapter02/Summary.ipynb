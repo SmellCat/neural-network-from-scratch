{
 "cells": [
  {
   "cell_type": "markdown",
   "id": "58631045",
   "metadata": {},
   "source": [
    "# A Single Neuron\n",
    "<https://nnfs.io/bkr/>"
   ]
  },
  {
   "cell_type": "code",
   "execution_count": 1,
   "id": "50f980ac",
   "metadata": {},
   "outputs": [
    {
     "name": "stdout",
     "output_type": "stream",
     "text": [
      "2.3\n"
     ]
    }
   ],
   "source": [
    "inputs =[1, 2, 3]\n",
    "weights = [0.2, 0.8, -0.5]\n",
    "bias = 2.0\n",
    "\n",
    "output = inputs[0] * weights[0] + inputs[1] * weights[1] + inputs[2] * weights[2] + bias\n",
    "print(output)"
   ]
  },
  {
   "cell_type": "markdown",
   "id": "cd6db5f7",
   "metadata": {},
   "source": [
    "# A Layer of Neurons\n",
    "<https://nnfs.io/mxo/>\n",
    "    "
   ]
  },
  {
   "cell_type": "code",
   "execution_count": 3,
   "id": "83fa6418",
   "metadata": {},
   "outputs": [
    {
     "name": "stdout",
     "output_type": "stream",
     "text": [
      "[4.8, 1.21, 2.385]\n"
     ]
    }
   ],
   "source": [
    "inputs = [1, 2, 3, 2.5]\n",
    "\n",
    "weights1 = [0.2, 0.8, -0.5, 1]\n",
    "weights2 = [0.5, -0.91, 0.26, -0.5]\n",
    "weights3 = [-0.26, -0.27, 0.17, 0.87]\n",
    "\n",
    "bias1 = 2\n",
    "bias2 = 3\n",
    "bias3 = 0.5\n",
    "\n",
    "output = [\n",
    "    inputs[0] * weights1[0] + inputs[1] * weights1[1] + inputs[2] * weights1[2] + inputs[3] * weights1[3] + bias1,\n",
    "    inputs[0] * weights2[0] + inputs[1] * weights2[1] + inputs[2] * weights2[2] + inputs[3] * weights2[3] + bias2,\n",
    "    inputs[0] * weights3[0] + inputs[1] * weights3[1] + inputs[2] * weights3[2] + inputs[3] * weights3[3] + bias3\n",
    "]\n",
    "print(output)"
   ]
  },
  {
   "cell_type": "code",
   "execution_count": 4,
   "id": "dd6791ba",
   "metadata": {},
   "outputs": [
    {
     "name": "stdout",
     "output_type": "stream",
     "text": [
      "[4.8, 1.21, 2.385]\n"
     ]
    }
   ],
   "source": [
    "weights = [\n",
    "    weights1,\n",
    "    weights2,\n",
    "    weights3\n",
    "]\n",
    "\n",
    "biases = [bias1, bias2, bias3]\n",
    "\n",
    "# Output of current layer\n",
    "layer_outputs = []\n",
    "# For each neuron\n",
    "for neuron_weights, neuron_bias in zip(weights, biases):\n",
    "    # Zeroed output of given neuron\n",
    "    neuron_output = 0\n",
    "    # For each input and weight to neuron\n",
    "    for n_input, weight in zip(inputs, neuron_weights):\n",
    "        # Multiply this input by associated weight\n",
    "        # and add to the neuron's output variable\n",
    "        neuron_output += n_input * weight\n",
    "    # Add bias\n",
    "    neuron_output += neuron_bias\n",
    "    # Put neuron's result to the layer's output list\n",
    "    layer_outputs.append(neuron_output)\n",
    "\n",
    "print(layer_outputs)"
   ]
  },
  {
   "cell_type": "markdown",
   "id": "2855af60",
   "metadata": {},
   "source": [
    "# Tensors、Arrays、Vectors\n",
    "> A tensor object is an object that can be represented as an array\n",
    "\n",
    "What this means is, as programmers, we can (and will) treat tensors as arrays in the context of\n",
    "deep learning, and that’s really all the thought we have to put into it. Are all tensors ​just​ arrays?\n",
    "No, but they are represented as arrays in our code, so, to us, they’re only arrays, and this is why\n",
    "there’s so much argument and confusion\n",
    "\n",
    "Now, what is an array? In this book, we define an array as an ordered homologous container for\n",
    "numbers, and mostly use this term when working with the NumPy package since that’s what the\n",
    "main data structure is called within it. A linear array, also called a 1-dimensional array, is the\n",
    "simplest example of an array, and in plain Python, this would be a list. Arrays can also consist\n",
    "of multi-dimensional data, and one of the best-known examples is what we call a matrix in\n",
    "mathematics, which we’ll represent as a 2-dimensional array. Each element of the array can be\n",
    "accessed using a tuple of indices as a key, which means that we can retrieve any array element.\n",
    "\n",
    "https://nnfs.io/jps/"
   ]
  },
  {
   "cell_type": "code",
   "execution_count": 9,
   "id": "e2274497",
   "metadata": {},
   "outputs": [
    {
     "name": "stdout",
     "output_type": "stream",
     "text": [
      "[1, 5, 6, 2]\n",
      "[[1, 5, 6, 2], [3, 2, 1, 3]]\n",
      "[[[1, 5, 6, 2], [3, 2, 1, 3]], [[5, 2, 1, 2], [6, 4, 8, 4]], [[2, 8, 5, 3], [1, 1, 9, 4]]]\n",
      "[[1, 5, 6, 2], [3, 2, 1, 3]]\n"
     ]
    }
   ],
   "source": [
    "# Everything shown so far could also be an array or an array representation of a tensor. \n",
    "l = [1,5,6,2]\n",
    "lol = [[1,5,6,2],\n",
    "      [3,2,1,3]]\n",
    "\n",
    "# 3-dimensional array\n",
    "lolol = [[[1,5,6,2],\n",
    "          [3,2,1,3]],\n",
    "          [[5,2,1,2],\n",
    "           [6,4,8,4]],\n",
    "         [[2,8,5,3],\n",
    "         [1,1,9,4]]]\n",
    "print(l)\n",
    "print(lol)\n",
    "print(lolol)\n",
    "print(lolol[0])"
   ]
  },
  {
   "cell_type": "markdown",
   "id": "b0cd97c5",
   "metadata": {},
   "source": [
    "## 不是Array"
   ]
  },
  {
   "cell_type": "code",
   "execution_count": null,
   "id": "89e0ce08",
   "metadata": {},
   "outputs": [],
   "source": [
    "another_list_of_lists = [[4,2,4],\n",
    "                        [5,1]]"
   ]
  },
  {
   "cell_type": "markdown",
   "id": "755fb1d1",
   "metadata": {},
   "source": [
    "The above list of lists cannot be an array because it is not **homologous**.\n",
    "\n",
    "A list of lists is homologous if each list along a dimension is identically long, and this must be true for each dimension."
   ]
  },
  {
   "cell_type": "markdown",
   "id": "ed6af971",
   "metadata": {},
   "source": [
    "## Matrix"
   ]
  },
  {
   "cell_type": "markdown",
   "id": "5b453247",
   "metadata": {},
   "source": [
    "A matrix is pretty simple. It’s a rectangular array. It has columns and rows. It is two dimensional.\n",
    "So a matrix can be an array (a 2D array). Can all arrays be matrices? No. An array can be far\n",
    "more than just columns and rows, as it could have four dimensions, twenty dimensions, and so on.\n",
    "\n",
    "The first dimension is what’s inside the most outer brackets, \n",
    "\n",
    "The next dimension’s size is the number of elements inside this more inner pair of brackets"
   ]
  },
  {
   "cell_type": "markdown",
   "id": "149955d6",
   "metadata": {},
   "source": [
    "## Shape"
   ]
  },
  {
   "cell_type": "code",
   "execution_count": 11,
   "id": "2875f446",
   "metadata": {},
   "outputs": [],
   "source": [
    "# 3x2 or (3,2)\n",
    "list_matrics_array = [[4,2],\n",
    "               [5,1],\n",
    "               [8,2]]"
   ]
  },
  {
   "cell_type": "markdown",
   "id": "66fa1e59",
   "metadata": {},
   "source": [
    "# Vector\n",
    "a vector in math is what we call a list in Python or a 1-dimensional array in NumPy"
   ]
  },
  {
   "cell_type": "markdown",
   "id": "71a92bb7",
   "metadata": {},
   "source": [
    "在计算机科学和数学领域，Array（数组）、Matrix（矩阵）、Vector（向量）和Tensor（张量）是不同的数据结构或数学概念，它们在不同的领域和上下文中有着不同的意义和用途。\n",
    "\n",
    "**数组（Array）：**\n",
    "+ 数组是一种数据结构，由一组相同类型的元素组成，这些元素按照顺序排列并在内存中连续存储。\n",
    "+ 数组的长度是固定的，一旦创建后大小通常不能改变。\n",
    "+ 在计算机编程中，数组可以是一维的、多维的或者动态扩展的数据结构。\n",
    "\n",
    "**矩阵（Matrix）：**\n",
    "+ 矩阵是数学概念，是一个二维的、由行和列组成的数据结构。它是线性代数和数学运算中的基本概念之一。\n",
    "+ 矩阵在数学、物理学、工程学等领域有广泛的应用，特别是在涉及到线性变换、解方程组、图像处理等方面。\n",
    "\n",
    "**向量（Vector）：**\n",
    "+ 向量是矩阵的一个特殊情况，通常是一个单列的矩阵或一个一维的数组。\n",
    "+ 在数学上，向量表示为有序排列的一系列数值。在几何学中，它通常代表空间中的方向和大小。\n",
    "+ 向量在物理学、工程学、计算机图形学等领域有广泛的应用，用于描述和处理空间中的方向、速度、力等概念。\n",
    "\n",
    "**张量（Tensor）：**\n",
    "+ 张量是一个广义的概念，它可以表示多维数组，是数组和矩阵的扩展。张量可以是零维的（标量）、一维的（向量）、二维的（矩阵），以及更高维度的数组。\n",
    "+ 在数学、物理学、机器学习和深度学习等领域中，张量是非常重要的概念。在机器学习和深度学习中，神经网络处理的数据通常以张量的形式表示。\n",
    "\n",
    "在机器学习和深度学习领域，特别是使用深度神经网络时，张量成为了一个核心概念，因为神经网络处理的输入、输出和中间层数据都以张量的形式进行表示和处理。 TensorFlow 和 PyTorch 等深度学习框架提供了针对张量操作的丰富功能，使得对张量进行高效操作和运算变得非常便捷。\n",
    "\n",
    "\n",
    "\n",
    "\n",
    "\n"
   ]
  },
  {
   "cell_type": "markdown",
   "id": "2af5406f",
   "metadata": {},
   "source": [
    "# dot product\n",
    "$\\vec{a}\\cdot\\vec{b}$  = $\\displaystyle \\sum_{i = 1}^{n}{a_{i}b_{i}}$ = $a_1b_1 + a_2b_2 + ... + a_nb_n$\n",
    "\n",
    "A dot product of two vectors is a sum of products of consecutive vector elements\n",
    "\n",
    "https://nnfs.io/xpo/\n",
    "\n",
    "另：\n",
    "$\\vec{a}+ \\vec{b}$ = [$a_1+b_1 , a_2+b_2 , ... , a_n+b_n$]"
   ]
  },
  {
   "cell_type": "code",
   "execution_count": 13,
   "id": "bc109153",
   "metadata": {
    "scrolled": true
   },
   "outputs": [
    {
     "name": "stdout",
     "output_type": "stream",
     "text": [
      "20\n"
     ]
    }
   ],
   "source": [
    "# a as inputs , b as weights\n",
    "a = [1, 2, 3]\n",
    "b = [2, 3, 4]\n",
    "\n",
    "dot_product = a[0] * b[0] + a[1] * b[1] + a[2] * b[2]\n",
    "print(dot_product)"
   ]
  },
  {
   "cell_type": "markdown",
   "id": "6f6ed34a",
   "metadata": {},
   "source": [
    "# A Single Neuron with Numpy\n",
    "\n",
    "<https://nnfs.io/blq/>"
   ]
  },
  {
   "cell_type": "code",
   "execution_count": 14,
   "id": "ea1a0e3c",
   "metadata": {},
   "outputs": [
    {
     "name": "stdout",
     "output_type": "stream",
     "text": [
      "4.8\n"
     ]
    }
   ],
   "source": [
    "import numpy as np\n",
    "\n",
    "inputs = [1.0, 2.0, 3.0, 2.5]\n",
    "weights = [0.2, 0.8, -0.5, 1.0]\n",
    "bias = 2.0\n",
    "\n",
    "outputs = np.dot(weights, inputs) + bias\n",
    "print(outputs)"
   ]
  },
  {
   "cell_type": "markdown",
   "id": "5df33b93",
   "metadata": {},
   "source": [
    "# A Layer of Neurons with Numpy\n",
    "\n",
    "<https://nnfs.io/cyx/>"
   ]
  },
  {
   "cell_type": "code",
   "execution_count": 15,
   "id": "78c879ec",
   "metadata": {},
   "outputs": [
    {
     "name": "stdout",
     "output_type": "stream",
     "text": [
      "[4.8   1.21  2.385]\n"
     ]
    }
   ],
   "source": [
    "import numpy as np\n",
    "\n",
    "inputs = [1.0, 2.0, 3.0, 2.5]\n",
    "weights = [[0.2, 0.8, -0.5, 1],\n",
    "           [0.5, -0.91, 0.26, -0.5],\n",
    "           [-0.26, -0.27, 0.17, 0.87]]\n",
    "biases = [2.0, 3.0, 0.5]\n",
    "\n",
    "layer_outputs = np.dot(weights, inputs) + biases\n",
    "print(layer_outputs)"
   ]
  },
  {
   "cell_type": "markdown",
   "id": "d37e1777",
   "metadata": {},
   "source": [
    "# A Batch of Data\n",
    "\n",
    "inputs被称作\n",
    "\n",
    "**feature set instance**\n",
    "\n",
    "**observation**\n",
    "\n",
    "**sample**\n",
    "\n",
    "<https://nnfs.io/lqw/>\n",
    "\n",
    "One reason is that it’s faster to train in batches in parallel processing, and the other reason is that batche help with generalization during training. \n",
    "\n",
    "https://nnfs.io/vyu/"
   ]
  },
  {
   "cell_type": "code",
   "execution_count": 16,
   "id": "beeaaf2b",
   "metadata": {},
   "outputs": [],
   "source": [
    "inputs = [[1, 2, 3, 2.5], [2, 5, -1, 2], [-1.5, 2.7, 3.3, -0.8]]"
   ]
  },
  {
   "cell_type": "markdown",
   "id": "41727c58",
   "metadata": {},
   "source": [
    "# Matrix Product\n",
    "\n",
    "https://nnfs.io/jei/\n",
    "\n",
    "To perform a matrix product, the size of the second dimension of the left matrix must match the\n",
    "size of the first dimension of the right matrix. For example, if the left matrix has a shape of ​(5, 4)\n",
    "then the right matrix must match this 4 within the first shape value ​(4, 7)​. The shape of the\n",
    "resulting array is always the first dimension of the left array and the second dimension of the right\n",
    "array, ​(5, 7)​. \n",
    "\n",
    "[row and column vector]<https://nnfs.io/bkw/>"
   ]
  },
  {
   "cell_type": "markdown",
   "id": "60fe227c",
   "metadata": {},
   "source": [
    "# Transposition for the Matrix Product\n",
    "\n",
    "$\\vec{a}\\cdot\\vec{b}$ =  $ab^\\mathrm T$ = $\\left[ \\begin{matrix} 1 &2 & 3\\end{matrix} \\right]$ $\\left[ \\begin{matrix} 2\\\\3\\\\4\\end{matrix} \\right]$ = [20]\n",
    "\n",
    "https://nnfs.io/qut/\n",
    "\n",
    "A row vector is a matrix whose first dimension’s size (the number of rows) equals 1 and the\n",
    "second dimension’s size (the number of columns) equals ​n​ — the vector size. In other words, it’s\n",
    "a 1×n array or array of shape (1, n)\n",
    "\n",
    "a = $\\left[ \\begin{matrix} a_1 &a_2 &a_3 &\\cdots &a_n\\end{matrix} \\right]$"
   ]
  },
  {
   "cell_type": "code",
   "execution_count": 19,
   "id": "60994df1",
   "metadata": {},
   "outputs": [
    {
     "data": {
      "text/plain": [
       "array([[1, 2, 3]])"
      ]
     },
     "execution_count": 19,
     "metadata": {},
     "output_type": "execute_result"
    }
   ],
   "source": [
    "np.array([[1,2,3]])"
   ]
  },
  {
   "cell_type": "code",
   "execution_count": 20,
   "id": "e8c76a29",
   "metadata": {},
   "outputs": [
    {
     "data": {
      "text/plain": [
       "array([[1, 2, 3]])"
      ]
     },
     "execution_count": 20,
     "metadata": {},
     "output_type": "execute_result"
    }
   ],
   "source": [
    "a = [1, 2, 3]\n",
    "np.array([a])"
   ]
  },
  {
   "cell_type": "code",
   "execution_count": 21,
   "id": "bec899e9",
   "metadata": {},
   "outputs": [
    {
     "data": {
      "text/plain": [
       "array([[1, 2, 3]])"
      ]
     },
     "execution_count": 21,
     "metadata": {},
     "output_type": "execute_result"
    }
   ],
   "source": [
    "np.expand_dims(np.array(a), axis=0)"
   ]
  },
  {
   "cell_type": "markdown",
   "id": "5fcdbbbe",
   "metadata": {},
   "source": [
    "A column vector is a matrix where the second dimension’s size equals 1, in other words, it’s an\n",
    "array of shape (n, 1):\n",
    "\n",
    "b = $\\left[ \\begin{matrix} b_1 \\\\b_2 \\\\b_3\\\\ \\vdots \\\\b_n\\end{matrix} \\right]$\n",
    "\n",
    "$\\left[ \\begin{matrix} b_1 &b_2 &b_3 &\\cdots &b_n\\end{matrix} \\right]^\\mathrm T$ =  $\\left[ \\begin{matrix} b_1 \\\\b_2 \\\\b_3\\\\ \\vdots \\\\b_n\\end{matrix} \\right]$\n",
    "\n",
    "$\\left[ \\begin{matrix} b_1 \\\\b_2 \\\\b_3\\\\ \\vdots \\\\b_n\\end{matrix} \\right]^\\mathrm T$ = $\\left[ \\begin{matrix} b_1 &b_2 &b_3 &\\cdots &b_n\\end{matrix} \\right]$"
   ]
  },
  {
   "cell_type": "code",
   "execution_count": 2,
   "id": "d8aa8f65",
   "metadata": {},
   "outputs": [
    {
     "data": {
      "text/plain": [
       "array([[20]])"
      ]
     },
     "execution_count": 2,
     "metadata": {},
     "output_type": "execute_result"
    }
   ],
   "source": [
    "import numpy as np\n",
    "a = [1,2,3]\n",
    "b = [2,3,4]\n",
    "\n",
    "a = np.array([a])\n",
    "b = np.array([b]).T\n",
    "\n",
    "np.dot(a, b)"
   ]
  },
  {
   "cell_type": "markdown",
   "id": "de167444",
   "metadata": {},
   "source": [
    "# A Layer of Neurons & Batch of Data w/Numpy\n",
    "\n",
    "https://nnfs.io/crq/"
   ]
  },
  {
   "cell_type": "code",
   "execution_count": 4,
   "id": "8419258e",
   "metadata": {},
   "outputs": [
    {
     "ename": "ValueError",
     "evalue": "shapes (3,4) and (3,4) not aligned: 4 (dim 1) != 3 (dim 0)",
     "output_type": "error",
     "traceback": [
      "\u001b[1;31m---------------------------------------------------------------------------\u001b[0m",
      "\u001b[1;31mValueError\u001b[0m                                Traceback (most recent call last)",
      "Cell \u001b[1;32mIn[4], line 10\u001b[0m\n\u001b[0;32m      2\u001b[0m inputs \u001b[38;5;241m=\u001b[39m [[\u001b[38;5;241m1.0\u001b[39m, \u001b[38;5;241m2.0\u001b[39m, \u001b[38;5;241m3.0\u001b[39m, \u001b[38;5;241m2.5\u001b[39m],\n\u001b[0;32m      3\u001b[0m           [\u001b[38;5;241m2.0\u001b[39m, \u001b[38;5;241m5.0\u001b[39m, \u001b[38;5;241m-\u001b[39m\u001b[38;5;241m1.0\u001b[39m, \u001b[38;5;241m2.0\u001b[39m],\n\u001b[0;32m      4\u001b[0m           [\u001b[38;5;241m-\u001b[39m\u001b[38;5;241m1.5\u001b[39m, \u001b[38;5;241m2.7\u001b[39m, \u001b[38;5;241m3.3\u001b[39m, \u001b[38;5;241m-\u001b[39m\u001b[38;5;241m0.8\u001b[39m]]\n\u001b[0;32m      6\u001b[0m weights \u001b[38;5;241m=\u001b[39m [[\u001b[38;5;241m0.2\u001b[39m, \u001b[38;5;241m0.8\u001b[39m, \u001b[38;5;241m-\u001b[39m\u001b[38;5;241m0.5\u001b[39m, \u001b[38;5;241m1.0\u001b[39m],\n\u001b[0;32m      7\u001b[0m            [\u001b[38;5;241m0.5\u001b[39m, \u001b[38;5;241m-\u001b[39m\u001b[38;5;241m0.91\u001b[39m, \u001b[38;5;241m0.26\u001b[39m, \u001b[38;5;241m-\u001b[39m\u001b[38;5;241m0.5\u001b[39m],\n\u001b[0;32m      8\u001b[0m            [\u001b[38;5;241m-\u001b[39m\u001b[38;5;241m0.26\u001b[39m, \u001b[38;5;241m-\u001b[39m\u001b[38;5;241m0.27\u001b[39m, \u001b[38;5;241m0.17\u001b[39m, \u001b[38;5;241m0.87\u001b[39m]]\n\u001b[1;32m---> 10\u001b[0m \u001b[38;5;28mprint\u001b[39m(np\u001b[38;5;241m.\u001b[39mdot(inputs, weights))\n",
      "File \u001b[1;32m<__array_function__ internals>:200\u001b[0m, in \u001b[0;36mdot\u001b[1;34m(*args, **kwargs)\u001b[0m\n",
      "\u001b[1;31mValueError\u001b[0m: shapes (3,4) and (3,4) not aligned: 4 (dim 1) != 3 (dim 0)"
     ]
    }
   ],
   "source": [
    "import numpy as np\n",
    "inputs = [[1.0, 2.0, 3.0, 2.5],\n",
    "          [2.0, 5.0, -1.0, 2.0],\n",
    "          [-1.5, 2.7, 3.3, -0.8]]\n",
    "\n",
    "weights = [[0.2, 0.8, -0.5, 1.0],\n",
    "           [0.5, -0.91, 0.26, -0.5],\n",
    "           [-0.26, -0.27, 0.17, 0.87]]\n",
    "\n",
    "print(np.dot(inputs, weights))"
   ]
  },
  {
   "cell_type": "code",
   "execution_count": 16,
   "id": "2cb2ff52",
   "metadata": {},
   "outputs": [
    {
     "name": "stdout",
     "output_type": "stream",
     "text": [
      "[[ 2.8   -1.79   1.885]\n",
      " [ 6.9   -4.81  -0.3  ]\n",
      " [-0.59  -1.949 -0.474]]\n"
     ]
    },
    {
     "data": {
      "text/plain": [
       "array([[ 0.2 ,  0.5 , -0.26],\n",
       "       [ 0.8 , -0.91, -0.27],\n",
       "       [-0.5 ,  0.26,  0.17],\n",
       "       [ 1.  , -0.5 ,  0.87]])"
      ]
     },
     "execution_count": 16,
     "metadata": {},
     "output_type": "execute_result"
    }
   ],
   "source": [
    "print(np.dot(inputs, np.array(weights).T))\n",
    "np.array(weights).T"
   ]
  },
  {
   "cell_type": "markdown",
   "id": "e283f5a8",
   "metadata": {},
   "source": [
    "$\\left[ \\begin{matrix}0.2 &0.8 & -0.5 & 1.0 \\\\\n",
    "               0.5 &-0.91 & 0.26 & -0.5 \\\\\n",
    "               -0.26 & -0.27 & 0.17 & 0.87\\end{matrix} \\right]^\\mathrm T= \n",
    "\\left[\\begin{matrix} 0.2 & 0.5 & -0.26\\\\\n",
    "               0.8 & -0.91 & -0.27\\\\\n",
    "               -0.5 & 0.26 & 0.17 \\\\\n",
    "               1.0 & -0.5 & 0.87 \\end{matrix}\\right]$              \n",
    "               \n",
    "               \n",
    " $inputs \\cdot weights^\\mathrm T$  $=$      \n",
    " $\\left[ \\begin{matrix}1.0 &2.0 & 3.0 & 2.5 \\\\\n",
    "                2.0 &5.0 & -1.0& 2.0 \\\\\n",
    "                -1.5 & 2.7 & 3.3 & -0.8\\end{matrix} \\right]$ \n",
    " $\\left[\\begin{matrix} 0.2 & 0.5 & -0.26\\\\\n",
    "               0.8 & -0.91 & -0.27\\\\\n",
    "               -0.5 & 0.26 & 0.17 \\\\\n",
    "               1.0 & -0.5 & 0.87 \\end{matrix}\\right]$ $=$\n",
    " $\\left[\\begin{matrix}\n",
    "1.0*0.2 + 2.0*0.8 + 3.0*-0.5 + 2.5*1.0 & 1.0*0.5 + 2.0*-0.91 + 3.0*0.26 + 2.5*-0.5 & 1.0*-0.26 + 2.0*-0.27 + 3.0*0.17 + 2.5*0.87\\\\\n",
    "2.0*0.2 + 5.0*0.8 + -1.0*-0.5 + 2.0*1.0 & 2.0*0.5 + 5.0*-0.91 + -1.0*0.26 + 2.0*-0.5 & 2.0*-0.26 + 5.0*-0.27 + -1.0 * 0.17 + 2.0*0.87\\\\\n",
    "-1.5*0.2 + 2.7*0.8 + 3.3*-0.5 + -0.8*1.0 & -1.5*0.5 + 2.7*-0.91 + 3.3*0.26 + -0.8*-0.5 & -1.5*-0.26 + 2.7*-0.27 + 3.3*0.17 + -0.8*0.87\n",
    " \\end{matrix}\\right]$ $=$\n",
    "\n",
    "$\\left[\\begin{matrix}2.8&-1.79&1.885\\\\\n",
    "              6.9&-4.81&-0.3\\\\\n",
    "              -0.59&-1.949&-0.474\\end{matrix}\\right]$\n",
    "              \n",
    "https://nnfs.io/gjw/"
   ]
  },
  {
   "cell_type": "code",
   "execution_count": null,
   "id": "8a42ae7c",
   "metadata": {},
   "outputs": [],
   "source": [
    "# 1.0*0.2 + 2.0*0.8 + 3.0*-0.5 + 2.5*1.0\n",
    "# 1.0*0.5 + 2.0*-0.91 + 3.0*0.26 + 2.5*-0.5\n",
    "# 1.0*-0.26 + 2.0*-0.27 + 3.0*0.17 + 2.5*0.87\n",
    "# 2.0*0.2 + 5.0*0.8 + -1.0*-0.5 + 2.0*1.0\n",
    "# 2.0*0.5 + 5.0*-0.91 + -1.0*0.26 + 2.0*-0.5\n",
    "# 2.0*-0.26 + 5.0*-0.27 + -1.0 * 0.17 + 2.0*0.87\n",
    "# -1.5*0.2 + 2.7*0.8 + 3.3*-0.5 + -0.8*1.0\n",
    "# -1.5*0.5 + 2.7*-0.91 + 3.3*0.26 + -0.8*-0.5\n",
    "# -1.5*-0.26 + 2.7*-0.27 + 3.3*0.17 + -0.8*0.87"
   ]
  },
  {
   "cell_type": "code",
   "execution_count": 52,
   "id": "b8f43697",
   "metadata": {},
   "outputs": [
    {
     "name": "stdout",
     "output_type": "stream",
     "text": [
      "[[ 4.8    1.21   2.385]\n",
      " [ 8.9   -1.81   0.2  ]\n",
      " [ 1.41   1.051  0.026]]\n"
     ]
    }
   ],
   "source": [
    "biased = [2.0, 3.0, 0.5]\n",
    "outputs = np.dot(inputs, np.array(weights).T) + biased\n",
    "print(outputs)\n",
    "# https://nnfs.io/qty/"
   ]
  },
  {
   "cell_type": "code",
   "execution_count": 53,
   "id": "a18f80ad",
   "metadata": {},
   "outputs": [
    {
     "name": "stdout",
     "output_type": "stream",
     "text": [
      "[[ 4.8    1.21   2.385]\n",
      " [ 8.9   -1.81   0.2  ]\n",
      " [ 1.41   1.051  0.026]]\n"
     ]
    }
   ],
   "source": [
    "import numpy as np\n",
    "inputs = [[1.0, 2.0, 3.0, 2.5],\n",
    "          [2.0, 5.0, -1.0, 2.0],\n",
    "          [-1.5, 2.7, 3.3, -0.8]]\n",
    "\n",
    "weights = [[0.2, 0.8, -0.5, 1.0],\n",
    "           [0.5, -0.91, 0.26, -0.5],\n",
    "           [-0.26, -0.27, 0.17, 0.87]]\n",
    "\n",
    "biased = [2.0, 3.0, 0.5]\n",
    "layer_outputs = np.dot(inputs, np.array(weights).T) + biased\n",
    "print(layer_outputs)"
   ]
  }
 ],
 "metadata": {
  "kernelspec": {
   "display_name": "Python 3 (ipykernel)",
   "language": "python",
   "name": "python3"
  },
  "language_info": {
   "codemirror_mode": {
    "name": "ipython",
    "version": 3
   },
   "file_extension": ".py",
   "mimetype": "text/x-python",
   "name": "python",
   "nbconvert_exporter": "python",
   "pygments_lexer": "ipython3",
   "version": "3.11.5"
  }
 },
 "nbformat": 4,
 "nbformat_minor": 5
}
